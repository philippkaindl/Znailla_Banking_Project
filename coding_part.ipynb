{
 "cells": [
  {
   "cell_type": "markdown",
   "id": "marked-plymouth",
   "metadata": {},
   "source": [
    "num --> sequence <br>\n",
    "if even / 2<br>\n",
    "if odd * 3+1<br>\n"
   ]
  },
  {
   "cell_type": "code",
   "execution_count": 12,
   "id": "primary-interim",
   "metadata": {
    "ExecuteTime": {
     "end_time": "2021-08-12T09:01:29.096208Z",
     "start_time": "2021-08-12T09:01:29.073221Z"
    }
   },
   "outputs": [
    {
     "data": {
      "text/plain": [
       "[5, 16, 8, 4, 2, 1]"
      ]
     },
     "execution_count": 12,
     "metadata": {},
     "output_type": "execute_result"
    }
   ],
   "source": [
    "def threePlusOne(num):\n",
    "    '''\n",
    "    Calculating the sequence of the 3x+1 problem for a given number\n",
    "    \n",
    "    Parameters\n",
    "    -------\n",
    "    num: int\n",
    "        starting number\n",
    "    Returns\n",
    "    -------\n",
    "    seq: list\n",
    "        sequence of numbers until we reach the 4/2/1 cycle \n",
    "    '''\n",
    "    \n",
    "    assert isinstance(num, int), \"please insert a integer\"\n",
    "    \n",
    "    if num <= 0:\n",
    "        print(f'Only for positive values; You entered {num}!')\n",
    "    \n",
    "    if num == 1:\n",
    "        return [num]\n",
    "    \n",
    "    seq = [num]\n",
    "    \n",
    "    # ends when you hit 1 \n",
    "    while num != 1:\n",
    "        num = seq[-1]\n",
    "        if num % 2 == 0:\n",
    "            num_new = int(num /2)\n",
    "            seq.append(num_new)\n",
    "            #\n",
    "        else:\n",
    "            num_new = int(num*3+1)\n",
    "            seq.append(num_new)\n",
    "        num = seq[-1]\n",
    "    \n",
    "    return seq\n",
    "\n",
    "threePlusOne(5)\n"
   ]
  },
  {
   "cell_type": "code",
   "execution_count": 20,
   "id": "amateur-state",
   "metadata": {
    "ExecuteTime": {
     "end_time": "2021-08-12T09:11:41.731879Z",
     "start_time": "2021-08-12T09:11:41.706891Z"
    }
   },
   "outputs": [],
   "source": [
    "class sequenceGen:\n",
    "\n",
    "    # init method or constructor \n",
    "    def __init__(self, num):\n",
    "        self.num = num\n",
    "   \n",
    "    def threePlusOne(self):\n",
    "        '''\n",
    "        Calculating the sequence of the 3x+1 problem for a given number\n",
    "\n",
    "        Parameters\n",
    "        -------\n",
    "        num: int\n",
    "            starting number\n",
    "        Returns\n",
    "        -------\n",
    "        seq: list\n",
    "            sequence of numbers until we reach the 4/2/1 cycle \n",
    "        '''\n",
    "\n",
    "        num = self.num\n",
    "\n",
    "        assert isinstance(num, int), \"please insert a integer\"\n",
    "\n",
    "        if num <= 0:\n",
    "            print(f'Only for positive values; You entered {num}!')\n",
    "\n",
    "        if num == 1:\n",
    "            return [num]\n",
    "\n",
    "        seq = [num]\n",
    "\n",
    "        # ends when you hit 1 \n",
    "        while num != 1:\n",
    "            num = seq[-1]\n",
    "            if num % 2 == 0:\n",
    "                num_new = int(num /2)\n",
    "                seq.append(num_new)\n",
    "                #\n",
    "            else:\n",
    "                num_new = int(num*3+1)\n",
    "                seq.append(num_new)\n",
    "            num = seq[-1]\n",
    "\n",
    "        return seq\n",
    "    \n",
    "sG = sequenceGen(num = 4)"
   ]
  },
  {
   "cell_type": "code",
   "execution_count": 22,
   "id": "widespread-respondent",
   "metadata": {
    "ExecuteTime": {
     "end_time": "2021-08-12T09:12:02.207071Z",
     "start_time": "2021-08-12T09:12:02.191079Z"
    }
   },
   "outputs": [
    {
     "data": {
      "text/plain": [
       "[4, 2, 1]"
      ]
     },
     "execution_count": 22,
     "metadata": {},
     "output_type": "execute_result"
    }
   ],
   "source": [
    "sG.threePlusOne()"
   ]
  },
  {
   "cell_type": "code",
   "execution_count": null,
   "id": "limiting-heath",
   "metadata": {},
   "outputs": [],
   "source": []
  }
 ],
 "metadata": {
  "kernelspec": {
   "display_name": "Python 3 (ipykernel)",
   "language": "python",
   "name": "python3"
  },
  "language_info": {
   "codemirror_mode": {
    "name": "ipython",
    "version": 3
   },
   "file_extension": ".py",
   "mimetype": "text/x-python",
   "name": "python",
   "nbconvert_exporter": "python",
   "pygments_lexer": "ipython3",
   "version": "3.9.7"
  },
  "varInspector": {
   "cols": {
    "lenName": 16,
    "lenType": 16,
    "lenVar": 40
   },
   "kernels_config": {
    "python": {
     "delete_cmd_postfix": "",
     "delete_cmd_prefix": "del ",
     "library": "var_list.py",
     "varRefreshCmd": "print(var_dic_list())"
    },
    "r": {
     "delete_cmd_postfix": ") ",
     "delete_cmd_prefix": "rm(",
     "library": "var_list.r",
     "varRefreshCmd": "cat(var_dic_list()) "
    }
   },
   "types_to_exclude": [
    "module",
    "function",
    "builtin_function_or_method",
    "instance",
    "_Feature"
   ],
   "window_display": false
  }
 },
 "nbformat": 4,
 "nbformat_minor": 5
}
